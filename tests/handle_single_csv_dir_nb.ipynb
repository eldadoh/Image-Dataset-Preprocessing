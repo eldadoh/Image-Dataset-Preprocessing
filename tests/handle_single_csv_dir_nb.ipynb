{
 "cells": [
  {
   "cell_type": "code",
   "execution_count": 8,
   "source": [
    "import json\n",
    "import csv \n",
    "import pandas as pd\n",
    "import numpy as np \n",
    "import os\n",
    "import glob\n",
    "import shutil \n",
    "\n",
    "def handle_single_csv_dir_func(dir_path):\n",
    "    annotation_file_name = 'annotations.csv'\n",
    "    annotation_file_path = os.path.join(dir_path,annotation_file_name)\n",
    "    df = pd.read_csv(annotation_file_path)\n",
    "    return df \n",
    "\n",
    "if __name__ == '__main__':\n",
    "    test_path = '../Data/annotations/csv/06-20 Product1'\n",
    "    df = handle_single_csv_dir_func(dir_path=test_path)\n",
    "    df = df[['image_name', 'annotation', 'x', 'y', 'width','height']] \n",
    "    print(df) "
   ],
   "outputs": [
    {
     "output_type": "stream",
     "name": "stdout",
     "text": [
      "                  image_name                              annotation  \\\n",
      "0    IMG_20210618_165445.JPG  9702910116_THERABREATH ORAL RINSE MINT   \n",
      "1    IMG_20210618_165457.JPG  9702910116_THERABREATH ORAL RINSE MINT   \n",
      "2    IMG_20210618_165457.JPG     3700044982_CREST P-HLTH CLN MNT RNS   \n",
      "3    IMG_20210618_165457.JPG    3700044983_CREST CLN MINT ORAL RINSE   \n",
      "4    IMG_20210618_165457.JPG    3700044983_CREST CLN MINT ORAL RINSE   \n",
      "..                       ...                                     ...   \n",
      "956  IMG_20210618_165746.JPG    4126038141_KRO VVDMNT AF FLRD MTHWSH   \n",
      "957  IMG_20210618_165746.JPG    3700073507_CREST 3D WHT BRLL ORL RNS   \n",
      "958  IMG_20210618_165954.JPG  9702910116_THERABREATH ORAL RINSE MINT   \n",
      "959  IMG_20210618_165954.JPG    3700094570_CREST P-HLTH CMPLT EDC MW   \n",
      "960  IMG_20210618_165954.JPG    4126038142_KRO REF MNT AF FLR MTHWSH   \n",
      "\n",
      "            x         y     width    height  \n",
      "0    0.347070  0.500000  0.586917  1.000000  \n",
      "1    0.477388  0.544362  0.433600  0.859806  \n",
      "2    0.882863  0.328233  0.234275  0.627766  \n",
      "3    0.145191  0.394287  0.290382  0.788574  \n",
      "4    0.642233  0.324585  0.218597  0.649171  \n",
      "..        ...       ...       ...       ...  \n",
      "956  0.953165  0.799390  0.093670  0.294708  \n",
      "957  0.060482  0.366701  0.120964  0.319574  \n",
      "958  0.421017  0.457271  0.521039  0.914542  \n",
      "959  0.755639  0.286766  0.229976  0.573532  \n",
      "960  0.907400  0.268412  0.185201  0.536824  \n",
      "\n",
      "[961 rows x 6 columns]\n"
     ]
    }
   ],
   "metadata": {}
  },
  {
   "cell_type": "code",
   "execution_count": null,
   "source": [],
   "outputs": [],
   "metadata": {}
  },
  {
   "cell_type": "code",
   "execution_count": null,
   "source": [],
   "outputs": [],
   "metadata": {}
  },
  {
   "cell_type": "code",
   "execution_count": null,
   "source": [],
   "outputs": [],
   "metadata": {}
  },
  {
   "cell_type": "code",
   "execution_count": null,
   "source": [],
   "outputs": [],
   "metadata": {}
  }
 ],
 "metadata": {
  "orig_nbformat": 4,
  "language_info": {
   "name": "python"
  }
 },
 "nbformat": 4,
 "nbformat_minor": 2
}